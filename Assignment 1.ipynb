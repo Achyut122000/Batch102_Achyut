{
 "cells": [
  {
   "cell_type": "code",
   "execution_count": 3,
   "id": "5fec7cb1-0ea2-42f9-94e1-5ef733cbb368",
   "metadata": {},
   "outputs": [
    {
     "name": "stdout",
     "output_type": "stream",
     "text": [
      " Hi, This is Achyut\n"
     ]
    }
   ],
   "source": [
    "###Ass1### Q1\n",
    "message =\" Hi, This is Achyut\"\n",
    "print(message)\n",
    "\n"
   ]
  },
  {
   "cell_type": "code",
   "execution_count": 4,
   "id": "fad0bb5b-b623-4607-bc6a-cacf2d5ac907",
   "metadata": {},
   "outputs": [
    {
     "name": "stdout",
     "output_type": "stream",
     "text": [
      "This is a new message\n",
      "This is message is altered\n"
     ]
    }
   ],
   "source": [
    "###Q2\n",
    "new_message=\"This is a new message\"\n",
    "print(new_message)\n",
    "\n",
    "###Q2\n",
    "new_message=\"This is message is altered\"\n",
    "print(new_message)\n",
    "\n"
   ]
  },
  {
   "cell_type": "code",
   "execution_count": 5,
   "id": "868048f0-3ed8-4a87-9aa0-fb187f477f21",
   "metadata": {},
   "outputs": [
    {
     "name": "stdout",
     "output_type": "stream",
     "text": [
      "Hello  Rishi  Python is a beautiful language.\n"
     ]
    }
   ],
   "source": [
    "###Q3\n",
    "name=\"Rishi\"\n",
    "print(\"Hello \",name ,\" Python is a beautiful language.\")\n",
    "\n"
   ]
  },
  {
   "cell_type": "code",
   "execution_count": 6,
   "id": "8983abc1-d341-4efc-98e2-ab00b6f1f7b5",
   "metadata": {},
   "outputs": [
    {
     "name": "stdout",
     "output_type": "stream",
     "text": [
      "Jamie Lynn once said,\"Jobs fill your pockets, adventures fill your soul.\"\n"
     ]
    }
   ],
   "source": [
    "####Q4\n",
    "print('Jamie Lynn once said,\"Jobs fill your pockets, adventures fill your soul.\"')\n"
   ]
  },
  {
   "cell_type": "code",
   "execution_count": 7,
   "id": "94698129-8024-402d-a405-932292610d64",
   "metadata": {},
   "outputs": [
    {
     "name": "stdout",
     "output_type": "stream",
     "text": [
      "Jamie Lynn once said, \"Jobs fill your pockets, adventures fill your soul.\"\n"
     ]
    }
   ],
   "source": [
    "\n",
    "####Q5\n",
    "famous_person = \"Jamie Lynn\"\n",
    "message = '\"Jobs fill your pockets, adventures fill your soul.\"'\n",
    "print(famous_person, \"once said,\", message)\n",
    "\n"
   ]
  },
  {
   "cell_type": "code",
   "execution_count": 8,
   "id": "1f6e4f38-76a4-418a-8b4f-92fb673eca8e",
   "metadata": {},
   "outputs": [
    {
     "name": "stdout",
     "output_type": "stream",
     "text": [
      "8\n",
      "8\n",
      "8\n",
      "8.0\n"
     ]
    }
   ],
   "source": [
    "###Q6\n",
    "print(2+6)\n",
    "print(9-1)\n",
    "print(2*4)\n",
    "print(40/5)\n"
   ]
  },
  {
   "cell_type": "code",
   "execution_count": 9,
   "id": "c173b961-6467-4d77-b3e6-849180526f43",
   "metadata": {},
   "outputs": [
    {
     "name": "stdout",
     "output_type": "stream",
     "text": [
      "My favourite number is  1\n"
     ]
    }
   ],
   "source": [
    "\n",
    "####Q7\n",
    "num='1'\n",
    "message = \"My favourite number is \"\n",
    "print(message, num)\n"
   ]
  },
  {
   "cell_type": "code",
   "execution_count": 10,
   "id": "bcbf15ed-6046-4630-b413-16c9430a96f2",
   "metadata": {},
   "outputs": [
    {
     "name": "stdout",
     "output_type": "stream",
     "text": [
      "Jamie Lynn once said, \"Jobs fill your pockets, adventures fill your soul.\"\n",
      "8\n",
      "8\n",
      "8\n",
      "8.0\n"
     ]
    }
   ],
   "source": [
    "\n",
    "####Q8\n",
    "#### Made by Achyut kumar Shaw on 20th July 2024\n",
    "famous_person = \"Jamie Lynn\"\n",
    "message = '\"Jobs fill your pockets, adventures fill your soul.\"'\n",
    "print(famous_person, \"once said,\", message)\n",
    "\n",
    "#### This program shows different operations on numbers which result in 8.\n",
    "print(2+6)\n",
    "print(9-1)\n",
    "print(2*4)\n",
    "print(40/5)\n",
    "\n",
    "\n"
   ]
  },
  {
   "cell_type": "code",
   "execution_count": 12,
   "id": "e832d500-54fe-487b-bcd7-19e863ca99a7",
   "metadata": {},
   "outputs": [
    {
     "name": "stdout",
     "output_type": "stream",
     "text": [
      "Rohit\n",
      "Labani\n",
      "Vicky\n",
      "Swatick\n",
      "Rishi\n"
     ]
    }
   ],
   "source": [
    "####Q9\n",
    "names = \"Rohit\", \"Labani\", \"Vicky\", \"Swatick\", \"Rishi\"\n",
    "for name in names:\n",
    "    print (name)\n",
    "\n"
   ]
  },
  {
   "cell_type": "code",
   "execution_count": 14,
   "id": "6862b904-0523-4b9b-a2a3-52ffdd9b4532",
   "metadata": {},
   "outputs": [
    {
     "name": "stdout",
     "output_type": "stream",
     "text": [
      "Rohit is my best friend\n",
      "Labani is my best friend\n",
      "Vicky is my best friend\n",
      "Swatick is my best friend\n",
      "Rishi is my best friend\n"
     ]
    }
   ],
   "source": [
    "####Q10\n",
    "names = \"Rohit\", \"Labani\", \"Vicky\", \"Swatick\", \"Rishi\"\n",
    "message = \"is my best friend\"\n",
    "for name in names:\n",
    "    print (name, message)\n",
    "\n"
   ]
  },
  {
   "cell_type": "code",
   "execution_count": 16,
   "id": "cc29eeca-97fc-4cce-bf00-e39bec4bf0ca",
   "metadata": {},
   "outputs": [
    {
     "name": "stdout",
     "output_type": "stream",
     "text": [
      " I would like to go on a long drive on  Yamaha MT15\n",
      " I would like to go on a long drive on  RE Himalayan\n",
      " I would like to go on a long drive on  Ducati Panigale\n",
      " I would like to go on a long drive on  Continental GT650\n",
      " I would like to go on a long drive on  Duke 390 Adventure\n"
     ]
    }
   ],
   "source": [
    "####Q11\n",
    "Motorcycles= \"Yamaha MT15\", \"RE Himalayan\", \"Ducati Panigale\", \"Continental GT650\", \"Duke 390 Adventure\"\n",
    "Message= \" I would like to go on a long drive on \"\n",
    "for MC in Motorcycles:\n",
    "    print(Message, MC)\n"
   ]
  },
  {
   "cell_type": "code",
   "execution_count": null,
   "id": "0fc46eec-c752-44e7-8fef-1e1507408aa9",
   "metadata": {},
   "outputs": [],
   "source": []
  }
 ],
 "metadata": {
  "kernelspec": {
   "display_name": "Python 3 (ipykernel)",
   "language": "python",
   "name": "python3"
  },
  "language_info": {
   "codemirror_mode": {
    "name": "ipython",
    "version": 3
   },
   "file_extension": ".py",
   "mimetype": "text/x-python",
   "name": "python",
   "nbconvert_exporter": "python",
   "pygments_lexer": "ipython3",
   "version": "3.12.4"
  }
 },
 "nbformat": 4,
 "nbformat_minor": 5
}
